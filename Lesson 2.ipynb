{
  "nbformat": 4,
  "nbformat_minor": 0,
  "metadata": {
    "colab": {
      "name": "Untitled0.ipynb",
      "provenance": [],
      "authorship_tag": "ABX9TyMqg43RJ1H1ueCgNACGnelf",
      "include_colab_link": true
    },
    "kernelspec": {
      "name": "python3",
      "display_name": "Python 3"
    },
    "language_info": {
      "name": "python"
    }
  },
  "cells": [
    {
      "cell_type": "markdown",
      "metadata": {
        "id": "view-in-github",
        "colab_type": "text"
      },
      "source": [
        "<a href=\"https://colab.research.google.com/github/ann-ko/Python-for-Data-Science.-Geekbrains/blob/main/Lesson%202.ipynb\" target=\"_parent\"><img src=\"https://colab.research.google.com/assets/colab-badge.svg\" alt=\"Open In Colab\"/></a>"
      ]
    },
    {
      "cell_type": "markdown",
      "metadata": {
        "id": "44Mv6MlqicDu"
      },
      "source": [
        ""
      ]
    },
    {
      "cell_type": "code",
      "metadata": {
        "id": "Yw22xCnQidyU"
      },
      "source": [
        "import numpy as np\n",
        "\n",
        "a0 = [1, 2, 3, 3, 1]\n",
        "a1 = [6, 8, 11, 10, 7]"
      ],
      "execution_count": 18,
      "outputs": []
    },
    {
      "cell_type": "code",
      "metadata": {
        "id": "mkUm56tmilkd"
      },
      "source": [
        "n [3]:\n",
        "a = np.column_stack((a0, a1))"
      ],
      "execution_count": null,
      "outputs": []
    },
    {
      "cell_type": "code",
      "metadata": {
        "colab": {
          "base_uri": "https://localhost:8080/"
        },
        "id": "45EH9pU7imcl",
        "outputId": "5879664f-7725-4f0a-94fd-cfe6817a3c61"
      },
      "source": [
        "mean_a = a.mean(axis=0)\n",
        "a, mean_a"
      ],
      "execution_count": 19,
      "outputs": [
        {
          "output_type": "execute_result",
          "data": {
            "text/plain": [
              "(array([[ 1,  6],\n",
              "        [ 2,  8],\n",
              "        [ 3, 11],\n",
              "        [ 3, 10],\n",
              "        [ 1,  7]]), array([2. , 8.4]))"
            ]
          },
          "metadata": {},
          "execution_count": 19
        }
      ]
    },
    {
      "cell_type": "code",
      "metadata": {
        "colab": {
          "base_uri": "https://localhost:8080/"
        },
        "id": "pAbGoDX2iy3d",
        "outputId": "64672869-d059-4d94-a9ba-faacf5639304"
      },
      "source": [
        "\n",
        "a_centered = a - mean_a\n",
        "a, a_centered"
      ],
      "execution_count": 20,
      "outputs": [
        {
          "output_type": "execute_result",
          "data": {
            "text/plain": [
              "(array([[ 1,  6],\n",
              "        [ 2,  8],\n",
              "        [ 3, 11],\n",
              "        [ 3, 10],\n",
              "        [ 1,  7]]), array([[-1. , -2.4],\n",
              "        [ 0. , -0.4],\n",
              "        [ 1. ,  2.6],\n",
              "        [ 1. ,  1.6],\n",
              "        [-1. , -1.4]]))"
            ]
          },
          "metadata": {},
          "execution_count": 20
        }
      ]
    },
    {
      "cell_type": "code",
      "metadata": {
        "colab": {
          "base_uri": "https://localhost:8080/"
        },
        "id": "q2O98Rm1jFVu",
        "outputId": "26332a72-585e-4e84-8e55-cee8d449f760"
      },
      "source": [
        "a_centered_sp = np.dot(a_centered[:, 0], a_centered[:, 1])\n",
        "N = a_centered.shape[0]\n",
        "my_val = a_centered_sp / (N - 1 if N > 2 else 1)\n",
        "\n",
        "a_centered_sp, my_val"
      ],
      "execution_count": 21,
      "outputs": [
        {
          "output_type": "execute_result",
          "data": {
            "text/plain": [
              "(8.0, 2.0)"
            ]
          },
          "metadata": {},
          "execution_count": 21
        }
      ]
    }
  ]
}