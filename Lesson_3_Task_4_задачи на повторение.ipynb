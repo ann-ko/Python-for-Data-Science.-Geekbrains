{
  "nbformat": 4,
  "nbformat_minor": 0,
  "metadata": {
    "colab": {
      "name": "Untitled5.ipynb",
      "provenance": []
    },
    "kernelspec": {
      "name": "python3",
      "display_name": "Python 3"
    },
    "language_info": {
      "name": "python"
    }
  },
  "cells": [
    {
      "cell_type": "markdown",
      "metadata": {
        "id": "o_tuX98xkR2M"
      },
      "source": [
        "**Задание на повторение материала**\n",
        "1. Создать одномерный массив Numpy под названием a из 12 последовательных целых чисел чисел от 12 до 24 невключительно\n"
      ]
    },
    {
      "cell_type": "code",
      "metadata": {
        "colab": {
          "base_uri": "https://localhost:8080/"
        },
        "id": "ZoiK6E0jkWhE",
        "outputId": "823122ea-88e7-41d9-ae9f-33c188d1770c"
      },
      "source": [
        "a = np.linspace(12, 24, num=12, endpoint=False)\n",
        "a"
      ],
      "execution_count": 9,
      "outputs": [
        {
          "output_type": "execute_result",
          "data": {
            "text/plain": [
              "array([12., 13., 14., 15., 16., 17., 18., 19., 20., 21., 22., 23.])"
            ]
          },
          "metadata": {},
          "execution_count": 9
        }
      ]
    },
    {
      "cell_type": "markdown",
      "metadata": {
        "id": "Bt8CX8QDkaxz"
      },
      "source": [
        "2. Создать 5 двумерных массивов разной формы из массива a. Не использовать в аргументах метода reshape число -1."
      ]
    },
    {
      "cell_type": "code",
      "metadata": {
        "colab": {
          "base_uri": "https://localhost:8080/"
        },
        "id": "4pCePIxLkimU",
        "outputId": "9b9ca621-aab8-4299-bede-6ddf669099c8"
      },
      "source": [
        "def reshape(numpy_arr, shape_y): \n",
        "    shape_x = int(numpy_arr.shape[0] / shape_y)\n",
        "    return numpy_arr.reshape(shape_x, shape_y)\n",
        "\n",
        "derivatives = []\n",
        "for shape_val in [1, 2, 3, 4, 6]:\n",
        "    derivative = reshape(a, shape_val)\n",
        "    derivatives.append(derivative)\n",
        "    \n",
        "    print('--------------------------')\n",
        "    print(f'Shape: {derivative.shape}')\n",
        "    print(f'Value:\\n {derivative}')"
      ],
      "execution_count": 10,
      "outputs": [
        {
          "output_type": "stream",
          "name": "stdout",
          "text": [
            "--------------------------\n",
            "Shape: (12, 1)\n",
            "Value:\n",
            " [[12.]\n",
            " [13.]\n",
            " [14.]\n",
            " [15.]\n",
            " [16.]\n",
            " [17.]\n",
            " [18.]\n",
            " [19.]\n",
            " [20.]\n",
            " [21.]\n",
            " [22.]\n",
            " [23.]]\n",
            "--------------------------\n",
            "Shape: (6, 2)\n",
            "Value:\n",
            " [[12. 13.]\n",
            " [14. 15.]\n",
            " [16. 17.]\n",
            " [18. 19.]\n",
            " [20. 21.]\n",
            " [22. 23.]]\n",
            "--------------------------\n",
            "Shape: (4, 3)\n",
            "Value:\n",
            " [[12. 13. 14.]\n",
            " [15. 16. 17.]\n",
            " [18. 19. 20.]\n",
            " [21. 22. 23.]]\n",
            "--------------------------\n",
            "Shape: (3, 4)\n",
            "Value:\n",
            " [[12. 13. 14. 15.]\n",
            " [16. 17. 18. 19.]\n",
            " [20. 21. 22. 23.]]\n",
            "--------------------------\n",
            "Shape: (2, 6)\n",
            "Value:\n",
            " [[12. 13. 14. 15. 16. 17.]\n",
            " [18. 19. 20. 21. 22. 23.]]\n"
          ]
        }
      ]
    },
    {
      "cell_type": "markdown",
      "metadata": {
        "id": "OXGkkb4TkmaT"
      },
      "source": [
        "3. Создать 5 двумерных массивов разной формы из массива a. Использовать в аргументах метода reshape число -1 (в трех примерах - для обозначения числа столбцов, в двух - для строк)."
      ]
    },
    {
      "cell_type": "code",
      "metadata": {
        "colab": {
          "base_uri": "https://localhost:8080/"
        },
        "id": "9PeYEGs1kpcb",
        "outputId": "ad77753e-9407-4f90-8f02-85cd4b730540"
      },
      "source": [
        "def reshape_rev(numpy_arr, shape_a, shape_b): \n",
        "    return numpy_arr.reshape(shape_a, shape_b)\n",
        "\n",
        "derivatives_rev = []\n",
        "for index, shape in enumerate([1, 2, 2, 3, 3]):\n",
        "    derivative = reshape_rev(a, *((shape, -1) if (index & 1) else (-1, shape)))\n",
        "    derivatives_rev.append(derivative)\n",
        "    \n",
        "    print('--------------------------')\n",
        "    print(f'Shape: {derivative.shape}')\n",
        "    print(f'Value:\\n {derivative}')"
      ],
      "execution_count": 11,
      "outputs": [
        {
          "output_type": "stream",
          "name": "stdout",
          "text": [
            "--------------------------\n",
            "Shape: (12, 1)\n",
            "Value:\n",
            " [[12.]\n",
            " [13.]\n",
            " [14.]\n",
            " [15.]\n",
            " [16.]\n",
            " [17.]\n",
            " [18.]\n",
            " [19.]\n",
            " [20.]\n",
            " [21.]\n",
            " [22.]\n",
            " [23.]]\n",
            "--------------------------\n",
            "Shape: (2, 6)\n",
            "Value:\n",
            " [[12. 13. 14. 15. 16. 17.]\n",
            " [18. 19. 20. 21. 22. 23.]]\n",
            "--------------------------\n",
            "Shape: (6, 2)\n",
            "Value:\n",
            " [[12. 13.]\n",
            " [14. 15.]\n",
            " [16. 17.]\n",
            " [18. 19.]\n",
            " [20. 21.]\n",
            " [22. 23.]]\n",
            "--------------------------\n",
            "Shape: (3, 4)\n",
            "Value:\n",
            " [[12. 13. 14. 15.]\n",
            " [16. 17. 18. 19.]\n",
            " [20. 21. 22. 23.]]\n",
            "--------------------------\n",
            "Shape: (4, 3)\n",
            "Value:\n",
            " [[12. 13. 14.]\n",
            " [15. 16. 17.]\n",
            " [18. 19. 20.]\n",
            " [21. 22. 23.]]\n"
          ]
        }
      ]
    },
    {
      "cell_type": "markdown",
      "metadata": {
        "id": "PAliClRBks0k"
      },
      "source": [
        "4. Можно ли массив Numpy, состоящий из одного столбца и 12 строк, назвать одномерным?"
      ]
    },
    {
      "cell_type": "code",
      "metadata": {
        "colab": {
          "base_uri": "https://localhost:8080/"
        },
        "id": "ctHZpJVtkyIE",
        "outputId": "bcd2f69e-6210-4d26-8595-a1e44e8820fd"
      },
      "source": [
        "test_arr = np.arange(0, 10).reshape(10, 1)\n",
        "list(test_arr)\n",
        "\n",
        "# Array of arrays is not flat"
      ],
      "execution_count": 12,
      "outputs": [
        {
          "output_type": "execute_result",
          "data": {
            "text/plain": [
              "[array([0]),\n",
              " array([1]),\n",
              " array([2]),\n",
              " array([3]),\n",
              " array([4]),\n",
              " array([5]),\n",
              " array([6]),\n",
              " array([7]),\n",
              " array([8]),\n",
              " array([9])]"
            ]
          },
          "metadata": {},
          "execution_count": 12
        }
      ]
    },
    {
      "cell_type": "markdown",
      "metadata": {
        "id": "mq5wU828k1q0"
      },
      "source": [
        "5. Создать массив из 3 строк и 4 столбцов, состоящий из случайных чисел с плавающей запятой из нормального распределения со средним, равным 0 и среднеквадратичным отклонением, равным 1.0. Получить из этого массива одномерный массив с таким же атрибутом size, как и исходный массив."
      ]
    },
    {
      "cell_type": "code",
      "metadata": {
        "colab": {
          "base_uri": "https://localhost:8080/"
        },
        "id": "NCJssf4gk4KN",
        "outputId": "1aee3861-1ff7-4240-f0f2-be8e31af22e0"
      },
      "source": [
        "rand_arr = np.random.randn(3, 4)\n",
        "flat_rand_arr = np.array(list(rand_arr.reshape(1, rand_arr.size)[0]))\n",
        "\n",
        "print('Original array:')\n",
        "print(rand_arr)\n",
        "print(f'Shape: {rand_arr.shape}')\n",
        "print('-------------------------')\n",
        "print('Derivative array:')\n",
        "print(flat_rand_arr)\n",
        "print(f'Shape: {flat_rand_arr.shape}')\n",
        "print('-------------------------')"
      ],
      "execution_count": 13,
      "outputs": [
        {
          "output_type": "stream",
          "name": "stdout",
          "text": [
            "Original array:\n",
            "[[-0.30211871 -0.40502168 -0.00828106  1.11664819]\n",
            " [ 0.78213624 -0.19952923  0.57154257  0.85917465]\n",
            " [-0.16284305  0.07557763  0.22508197 -1.31661653]]\n",
            "Shape: (3, 4)\n",
            "-------------------------\n",
            "Derivative array:\n",
            "[-0.30211871 -0.40502168 -0.00828106  1.11664819  0.78213624 -0.19952923\n",
            "  0.57154257  0.85917465 -0.16284305  0.07557763  0.22508197 -1.31661653]\n",
            "Shape: (12,)\n",
            "-------------------------\n"
          ]
        }
      ]
    },
    {
      "cell_type": "markdown",
      "metadata": {
        "id": "M8s2k2PKlLhK"
      },
      "source": [
        "6. Создать массив a, состоящий из целых чисел, убывающих от 20 до 0 невключительно с интервалом 2."
      ]
    },
    {
      "cell_type": "code",
      "metadata": {
        "colab": {
          "base_uri": "https://localhost:8080/"
        },
        "id": "2jg32ZqDlMyM",
        "outputId": "04972e61-10c4-4694-c1c7-8c16fb558c69"
      },
      "source": [
        "a = np.arange(20, 0, -2)\n",
        "a"
      ],
      "execution_count": 14,
      "outputs": [
        {
          "output_type": "execute_result",
          "data": {
            "text/plain": [
              "array([20, 18, 16, 14, 12, 10,  8,  6,  4,  2])"
            ]
          },
          "metadata": {},
          "execution_count": 14
        }
      ]
    },
    {
      "cell_type": "markdown",
      "metadata": {
        "id": "_NX6mWCYlQPs"
      },
      "source": [
        "7. Создать массив b, состоящий из 1 строки и 10 столбцов: целых чисел, убывающих от 20 до 1 невключительно с интервалом 2. В чем разница между массивами a и b?"
      ]
    },
    {
      "cell_type": "code",
      "metadata": {
        "colab": {
          "base_uri": "https://localhost:8080/"
        },
        "id": "D40Bqp2OlRXk",
        "outputId": "ea7a5285-6d98-481a-bb85-1bd14d96535f"
      },
      "source": [
        "b = np.arange(20, 1, -2)\n",
        "b = b.reshape(b.size, 1)\n",
        "b"
      ],
      "execution_count": 15,
      "outputs": [
        {
          "output_type": "execute_result",
          "data": {
            "text/plain": [
              "array([[20],\n",
              "       [18],\n",
              "       [16],\n",
              "       [14],\n",
              "       [12],\n",
              "       [10],\n",
              "       [ 8],\n",
              "       [ 6],\n",
              "       [ 4],\n",
              "       [ 2]])"
            ]
          },
          "metadata": {},
          "execution_count": 15
        }
      ]
    },
    {
      "cell_type": "markdown",
      "metadata": {
        "id": "7rZq0zO0lWEB"
      },
      "source": [
        "8. Вертикально соединить массивы a и b. a - двумерный массив из нулей, число строк которого больше 1 и на 1 меньше, чем число строк двумерного массива b, состоящего из единиц. Итоговый массив v должен иметь атрибут size, равный 10."
      ]
    },
    {
      "cell_type": "code",
      "metadata": {
        "colab": {
          "base_uri": "https://localhost:8080/"
        },
        "id": "zOWdUNiblXyE",
        "outputId": "2ae3145a-9270-429a-8cc2-64c0ebdd0df6"
      },
      "source": [
        "a = np.zeros((2, 2))\n",
        "b = np.zeros((3, 2)) + 1\n",
        "v = np.vstack((a, b))\n",
        "\n",
        "print(f'Concatenated array:\\n{v}\\n')\n",
        "print(f'Size: {v.size}')"
      ],
      "execution_count": 16,
      "outputs": [
        {
          "output_type": "stream",
          "name": "stdout",
          "text": [
            "Concatenated array:\n",
            "[[0. 0.]\n",
            " [0. 0.]\n",
            " [1. 1.]\n",
            " [1. 1.]\n",
            " [1. 1.]]\n",
            "\n",
            "Size: 10\n"
          ]
        }
      ]
    },
    {
      "cell_type": "markdown",
      "metadata": {
        "id": "A63gZ2JflcH6"
      },
      "source": [
        "9. Создать одномерный массив а, состоящий из последовательности целых чисел от 0 до 12. Поменять форму этого массива, чтобы получилась матрица A (двумерный массив Numpy), состоящая из 4 строк и 3 столбцов. Получить матрицу At путем транспонирования матрицы A. Получить матрицу B, умножив матрицу A на матрицу At с помощью матричного умножения. Какой размер имеет матрица B? Получится ли вычислить обратную матрицу для матрицы B и почему?"
      ]
    },
    {
      "cell_type": "code",
      "metadata": {
        "colab": {
          "base_uri": "https://localhost:8080/"
        },
        "id": "agZ_Q_UgldMj",
        "outputId": "2c7a1e7f-630d-4d29-bc2f-3d76115b178e"
      },
      "source": [
        "a = np.arange(0, 12)\n",
        "A = a.reshape(4, 3)\n",
        "At = A.transpose()\n",
        "B = np.dot(A, At)\n",
        "\n",
        "B"
      ],
      "execution_count": 17,
      "outputs": [
        {
          "output_type": "execute_result",
          "data": {
            "text/plain": [
              "array([[  5,  14,  23,  32],\n",
              "       [ 14,  50,  86, 122],\n",
              "       [ 23,  86, 149, 212],\n",
              "       [ 32, 122, 212, 302]])"
            ]
          },
          "metadata": {},
          "execution_count": 17
        }
      ]
    },
    {
      "cell_type": "markdown",
      "metadata": {
        "id": "D2c9f3A4lhrP"
      },
      "source": [
        "10. Инициализируйте генератор случайных числе с помощью объекта seed, равного 42."
      ]
    },
    {
      "cell_type": "code",
      "metadata": {
        "colab": {
          "base_uri": "https://localhost:8080/"
        },
        "id": "6wqCb8RAljAM",
        "outputId": "27ea6e6b-57bb-409d-bbe4-fb71eb751b9d"
      },
      "source": [
        "np.random.seed(42)\n",
        "np.random.rand(3)"
      ],
      "execution_count": 18,
      "outputs": [
        {
          "output_type": "execute_result",
          "data": {
            "text/plain": [
              "array([0.37454012, 0.95071431, 0.73199394])"
            ]
          },
          "metadata": {},
          "execution_count": 18
        }
      ]
    },
    {
      "cell_type": "markdown",
      "metadata": {
        "id": "RVbyuoVylnqu"
      },
      "source": [
        "11. Создайте одномерный массив c, составленный из последовательности 16-ти случайных равномерно распределенных целых чисел от 0 до 16 невключительно."
      ]
    },
    {
      "cell_type": "code",
      "metadata": {
        "colab": {
          "base_uri": "https://localhost:8080/"
        },
        "id": "TLbioLVllojg",
        "outputId": "bf2aa276-5e12-46eb-f3fc-7ef9b4d4a18c"
      },
      "source": [
        "c = np.arange(0, 16)\n",
        "np.random.shuffle(c)\n",
        "c"
      ],
      "execution_count": 19,
      "outputs": [
        {
          "output_type": "execute_result",
          "data": {
            "text/plain": [
              "array([ 0, 10, 15,  1,  8,  5, 11,  3, 14,  7, 13,  2,  9,  6,  4, 12])"
            ]
          },
          "metadata": {},
          "execution_count": 19
        }
      ]
    },
    {
      "cell_type": "markdown",
      "metadata": {
        "id": "1u-d3SMBlq7c"
      },
      "source": [
        "12. Поменяйте его форму так, чтобы получилась квадратная матрица C. Получите матрицу D, поэлементно прибавив матрицу B из предыдущего вопроса к матрице C, умноженной на 10. Вычислите определитель, ранг и обратную матрицу D_inv для D."
      ]
    },
    {
      "cell_type": "code",
      "metadata": {
        "colab": {
          "base_uri": "https://localhost:8080/"
        },
        "id": "uNch7gGZltjX",
        "outputId": "073c5f39-1b39-4844-81da-d650e561ff77"
      },
      "source": [
        "c_square_matrix_size = int(c.size ** .5)\n",
        "C = c.reshape(c_square_matrix_size, c_square_matrix_size)\n",
        "D = B + (C * 10)\n",
        "D_determinant = np.linalg.det(D)\n",
        "D_rank = np.linalg.matrix_rank(D)\n",
        "D_inv = np.linalg.inv(D)\n",
        "\n",
        "\n",
        "print(f'Original  :\\n{D}\\n')\n",
        "print(f'Deteminant: {D_determinant}\\n')\n",
        "print(f'Rank      : {D_rank}\\n')\n",
        "print(f'Inverted  : \\n{D_inv}\\n')"
      ],
      "execution_count": 20,
      "outputs": [
        {
          "output_type": "stream",
          "name": "stdout",
          "text": [
            "Original  :\n",
            "[[  5 114 173  42]\n",
            " [ 94 100 196 152]\n",
            " [163 156 279 232]\n",
            " [122 182 252 422]]\n",
            "\n",
            "Deteminant: 95676799.99999991\n",
            "\n",
            "Rank      : 4\n",
            "\n",
            "Inverted  : \n",
            "[[-0.00462599 -0.02290503  0.02203209 -0.00340187]\n",
            " [ 0.01351362 -0.06701123  0.0359734   0.00301494]\n",
            " [-0.0022229   0.04233294 -0.02225534 -0.00279148]\n",
            " [-0.00316336  0.01024303 -0.00859414  0.00371982]]\n",
            "\n"
          ]
        }
      ]
    },
    {
      "cell_type": "markdown",
      "metadata": {
        "id": "2CxjX05pl1D3"
      },
      "source": [
        "13. Приравняйте к нулю отрицательные числа в матрице D_inv, а положительные - к единице. Убедитесь, что в матрице D_inv остались только нули и единицы. С помощью функции numpy.where, используя матрицу D_inv в качестве маски, а матрицы B и C - в качестве источников данных, получите матрицу E размером 4x4. Элементы матрицы E, для которых соответствующий элемент матрицы D_inv равен 1, должны быть равны соответствующему элементу матрицы B, а элементы матрицы E, для которых соответствующий элемент матрицы D_inv равен 0, должны быть равны соответствующему элементу матрицы C."
      ]
    },
    {
      "cell_type": "code",
      "metadata": {
        "colab": {
          "base_uri": "https://localhost:8080/"
        },
        "id": "TY3Qbuv8l2Ss",
        "outputId": "44c1026c-2972-45ae-a054-a715d2c051af"
      },
      "source": [
        "D_inv = np.where(D_inv < 0, 0, 1)\n",
        "D_inv"
      ],
      "execution_count": 21,
      "outputs": [
        {
          "output_type": "execute_result",
          "data": {
            "text/plain": [
              "array([[0, 0, 1, 0],\n",
              "       [1, 0, 1, 1],\n",
              "       [0, 1, 0, 0],\n",
              "       [0, 1, 0, 1]])"
            ]
          },
          "metadata": {},
          "execution_count": 21
        }
      ]
    },
    {
      "cell_type": "code",
      "metadata": {
        "id": "KEwpfUY4l4zN",
        "outputId": "c887945d-dd56-44f2-d457-96b9cafcbe2b",
        "colab": {
          "base_uri": "https://localhost:8080/"
        }
      },
      "source": [
        "E = np.where(D_inv == 1, B, C)\n",
        "E"
      ],
      "execution_count": 22,
      "outputs": [
        {
          "output_type": "execute_result",
          "data": {
            "text/plain": [
              "array([[  0,  10,  23,   1],\n",
              "       [ 14,   5,  86, 122],\n",
              "       [ 14,  86,  13,   2],\n",
              "       [  9, 122,   4, 302]])"
            ]
          },
          "metadata": {},
          "execution_count": 22
        }
      ]
    },
    {
      "cell_type": "code",
      "metadata": {
        "id": "LS_SfY__kdV2"
      },
      "source": [
        ""
      ],
      "execution_count": null,
      "outputs": []
    }
  ]
}